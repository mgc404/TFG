{
 "cells": [
  {
   "cell_type": "markdown",
   "metadata": {},
   "source": [
    "# Main imports"
   ]
  },
  {
   "cell_type": "markdown",
   "metadata": {},
   "source": [
    "### Native imports"
   ]
  },
  {
   "cell_type": "code",
   "execution_count": 3,
   "metadata": {},
   "outputs": [],
   "source": [
    "import os\n",
    "import pandas as pd"
   ]
  },
  {
   "cell_type": "markdown",
   "metadata": {},
   "source": [
    "# Load imatge classification"
   ]
  },
  {
   "cell_type": "code",
   "execution_count": 5,
   "metadata": {},
   "outputs": [],
   "source": [
    "identity_df = pd.read_csv(\"Imatges\\CelebA\\Anno\\identity_CelebA.txt\", sep=' ', header=None)\n",
    "list_eval_partition_df = pd.read_csv(\"Imatges\\CelebA\\Eval\\list_eval_partition.txt\", sep=' ', header=None)\n",
    "identity_df = identity_df.rename(columns={0:\"Image_name\", 1:\"Identity\"})\n",
    "list_eval_partition_df = list_eval_partition_df.rename(columns={0:\"Image_name\", 1:\"Evaluation_status\"})\n",
    "identity_df = identity_df.merge(list_eval_partition_df, how=\"outer\", on='Image_name')"
   ]
  },
  {
   "cell_type": "code",
   "execution_count": 9,
   "metadata": {},
   "outputs": [
    {
     "name": "stdout",
     "output_type": "stream",
     "text": [
      "2\n",
      "   Image_name  Identity  Evaluation_status  papa\n",
      "0  000001.jpg      2880                  0     0\n",
      "1  000002.jpg      2937                  0     0\n",
      "2  000003.jpg      8692                  0     0\n",
      "3  000004.jpg      5805                  0     0\n",
      "4  000005.jpg      9295                  0     0\n"
     ]
    },
    {
     "data": {
      "text/plain": [
       "(202599, 4)"
      ]
     },
     "execution_count": 9,
     "metadata": {},
     "output_type": "execute_result"
    }
   ],
   "source": [
    "identity_df[\"papa\"] = identity_df[\"Identity\"] == 7799\n",
    "identity_df[\"papa\"] = identity_df[\"papa\"].astype(int)\n",
    "print(identity_df[\"papa\"].nunique())\n",
    "print(identity_df.head())\n",
    "identity_df.shape"
   ]
  }
 ],
 "metadata": {
  "kernelspec": {
   "display_name": "Python 3.10.7 64-bit",
   "language": "python",
   "name": "python3"
  },
  "language_info": {
   "codemirror_mode": {
    "name": "ipython",
    "version": 3
   },
   "file_extension": ".py",
   "mimetype": "text/x-python",
   "name": "python",
   "nbconvert_exporter": "python",
   "pygments_lexer": "ipython3",
   "version": "3.10.7"
  },
  "orig_nbformat": 4,
  "vscode": {
   "interpreter": {
    "hash": "32b6365f16a9560d1f64eaf7f0cd3e0262cb733df60217a199a198ac26346325"
   }
  }
 },
 "nbformat": 4,
 "nbformat_minor": 2
}
